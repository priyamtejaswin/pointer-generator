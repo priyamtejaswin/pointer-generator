{
 "cells": [
  {
   "cell_type": "markdown",
   "metadata": {
    "id": "9n0dcDw1Wszw"
   },
   "source": [
    "## Overview\n",
    "This notebook gives a brief introduction into the ***Sequence to Sequence Model Architecture***\n",
    "In this noteboook you broadly cover four essential topics necessary for Neural Text Generation:\n",
    "\n",
    "\n",
    "* **Data cleaning**\n",
    "* **Data preparation**\n",
    "* **Table to Text Generation**\n",
    "* **Final generation with ```tf.addons.seq2seq.BasicDecoder``` and ```tf.addons.seq2seq.BeamSearchDecoder```** \n",
    "\n",
    "The basic idea behind such a model though, is only the encoder-decoder architecture. These networks are usually used for a variety of tasks like text-summerization, Machine translation, Image Captioning, etc. This tutorial provideas a hands-on understanding of the concept, explaining the technical jargons wherever necessary. You focus on the task of Neural Machine Translation (NMT) which was the very first testbed for seq2seq models.\n"
   ]
  },
  {
   "cell_type": "markdown",
   "metadata": {
    "id": "MpySVYWJhxaV"
   },
   "source": [
    "## Setup"
   ]
  },
  {
   "cell_type": "code",
   "execution_count": 1,
   "metadata": {
    "id": "tnxXKDjq3jEL"
   },
   "outputs": [],
   "source": [
    "import tensorflow as tf\n",
    "import tensorflow_addons as tfa\n",
    "\n",
    "# import matplotlib.pyplot as plt\n",
    "# import matplotlib.ticker as ticker\n",
    "from sklearn.model_selection import train_test_split\n",
    "\n",
    "import unicodedata\n",
    "import re\n",
    "import numpy as np\n",
    "import os\n",
    "import io\n",
    "import time\n",
    "\n",
    "from tqdm import tqdm"
   ]
  },
  {
   "cell_type": "code",
   "execution_count": 2,
   "metadata": {},
   "outputs": [],
   "source": [
    "physical_devices = tf.config.list_physical_devices('GPU')\n",
    "for phydev in physical_devices:\n",
    "    tf.config.experimental.set_memory_growth(phydev, enable=True)\n",
    "#     tf.config.experimental.set_virtual_device_configuration(\n",
    "#         phydev, \n",
    "#         [tf.config.experimental.VirtualDeviceConfiguration(memory_limit=5120)]\n",
    "#     )"
   ]
  },
  {
   "cell_type": "markdown",
   "metadata": {
    "id": "Ii_vg-XNXTil"
   },
   "source": [
    "## Data Cleaning and Data Preparation \n",
    "\n",
    "Steps:\n",
    "\n",
    "1. Add a start and end token to each sentence.\n",
    "2. Clean the sentences by removing special characters.\n",
    "3. Create a Vocabulary with word index (mapping from word → id) and reverse word index (mapping from id → word).\n",
    "5. Pad each sentence to a maximum length. (Why? you need to fix the maximum length for the inputs to recurrent encoders)"
   ]
  },
  {
   "cell_type": "markdown",
   "metadata": {
    "id": "NFKB2c_tX4wU"
   },
   "source": [
    "### Define a NMTDataset class with necessary functions to follow Step 1 to Step 4. \n",
    "The ```call()``` will return:\n",
    "1. ```train_dataset```  and ```val_dataset``` : ```tf.data.Dataset``` objects\n",
    "2. ```inp_lang_tokenizer``` and ```targ_lang_tokenizer``` : ```tf.keras.preprocessing.text.Tokenizer``` objects "
   ]
  },
  {
   "cell_type": "code",
   "execution_count": 45,
   "metadata": {
    "id": "JMAHz7kJXc5N"
   },
   "outputs": [],
   "source": [
    "class NMTDataset:\n",
    "    def __init__(self, problem_type='en-spa'):\n",
    "        self.problem_type = 'en-spa'\n",
    "        self.inp_lang_tokenizer = None\n",
    "        self.targ_lang_tokenizer = None\n",
    "    \n",
    "\n",
    "    def unicode_to_ascii(self, s):\n",
    "        return ''.join(c for c in unicodedata.normalize('NFD', s) if unicodedata.category(c) != 'Mn')\n",
    "    \n",
    "    \n",
    "    def load_text(self, path, num_examples=None):\n",
    "        return io.open(path, encoding='UTF-8').read().strip().split('\\n')[:num_examples]\n",
    "    \n",
    "    def create_wikibio_target(self, lines, ids, truncate=True):\n",
    "        assert len(lines) == sum(ids)\n",
    "        data = []\n",
    "        ix = 0\n",
    "        for n in tqdm(ids):\n",
    "            words = '<start> ' + lines[ix] + ' <end>'\n",
    "            if truncate:\n",
    "                words = ' '.join(words.split()[:35])  # 35\n",
    "\n",
    "            data.append(words)\n",
    "            ix += n\n",
    "\n",
    "        return data\n",
    "    \n",
    "    def create_wikibio_source(self, lines):\n",
    "        sep = '<sep>'\n",
    "        data = []\n",
    "        for ix, l in enumerate(lines):#, total=len(lines)):\n",
    "            clean = []\n",
    "            s, e = '', ''\n",
    "\n",
    "            for word in l.split():\n",
    "                if len(re.findall(':', word)) != 1:\n",
    "                    continue\n",
    "\n",
    "                key, val = word.split(':')\n",
    "                if val != '<none>':\n",
    "                    match = re.search(r'_[0-9]+$', key)\n",
    "                    if match is None:\n",
    "                        clean.append(key)\n",
    "                        clean.append(val)\n",
    "                        clean.append(sep)\n",
    "\n",
    "                        s = ''\n",
    "                        e = ''\n",
    "                    else:\n",
    "                        holder = key[:match.start()]\n",
    "                        if s:\n",
    "                            if s == holder:\n",
    "                                e += val + ' '\n",
    "                            else:\n",
    "                                clean.append(s)\n",
    "                                clean.append(e.strip())\n",
    "                                clean.append(sep)\n",
    "\n",
    "                                s = holder\n",
    "                                e = val + ' '\n",
    "\n",
    "                        else:\n",
    "                            s = holder\n",
    "                            e = val + ' '\n",
    "\n",
    "            if s:\n",
    "                clean.append(s)\n",
    "                clean.append(e.strip())\n",
    "                clean.append(sep)\n",
    "\n",
    "            tokens = '<start> ' + ' '.join(clean).strip(sep).strip() + ' <end>'\n",
    "            tokens = ' '.join(tokens.split()[:80])\n",
    "            data.append(tokens)\n",
    "\n",
    "        return data\n",
    "    \n",
    "\n",
    "    ## Step 1 and Step 2 \n",
    "    def preprocess_sentence(self, w):\n",
    "        w = self.unicode_to_ascii(w.lower().strip())\n",
    "\n",
    "        # creating a space between a word and the punctuation following it\n",
    "        # eg: \"he is a boy.\" => \"he is a boy .\"\n",
    "        # Reference:- https://stackoverflow.com/questions/3645931/python-padding-punctuation-with-white-spaces-keeping-punctuation\n",
    "        w = re.sub(r\"([?.!,¿])\", r\" \\1 \", w)\n",
    "        w = re.sub(r'[\" \"]+', \" \", w)\n",
    "\n",
    "        # replacing everything with space except (a-z, A-Z, \".\", \"?\", \"!\", \",\")\n",
    "        w = re.sub(r\"[^a-zA-Z?.!,¿]+\", \" \", w)\n",
    "\n",
    "        w = w.strip()\n",
    "\n",
    "        # adding a start and an end token to the sentence\n",
    "        # so that the model know when to start and stop predicting.\n",
    "        w = '<start> ' + w + ' <end>'\n",
    "        return w\n",
    "    \n",
    "    def create_dataset(self, path, num_examples):\n",
    "        # path : path to spa-eng.txt file\n",
    "        # num_examples : Limit the total number of training example for faster training (set num_examples = len(lines) to use full data)\n",
    "        \n",
    "        lines = io.open(path, encoding='UTF-8').read().strip().split('\\n')\n",
    "        sent_pairs = [[self.preprocess_sentence(w) for w in l.split('\\t')]  for l in lines[:num_examples]]\n",
    "        return zip(*sent_pairs)\n",
    "        \n",
    "\n",
    "    def create_wikibio_data(self, maindir, num_examples):\n",
    "        \"\"\"\n",
    "        path: Dir location. Must contain train file.\n",
    "        \"\"\"\n",
    "        path_train_src = os.path.join(maindir, 'train', 'train.box')\n",
    "        path_train_tgt = os.path.join(maindir, 'train', 'train.sent')\n",
    "        path_train_nbs = os.path.join(maindir, 'train', 'train.nb')\n",
    "        \n",
    "        nbs = [int(x) for x in self.load_text(path_train_nbs)[:num_examples]]\n",
    "        source = self.create_wikibio_source(self.load_text(path_train_src, num_examples=num_examples))\n",
    "        all_targets = self.load_text(path_train_tgt)[:sum(nbs)]\n",
    "        target = self.create_wikibio_target(all_targets, nbs)\n",
    "        assert len(source) == len(target)\n",
    "        return source, target\n",
    "\n",
    "\n",
    "    # Step 3 and Step 4\n",
    "    def tokenize(self, lang):\n",
    "        # lang = list of sentences in a language\n",
    "        \n",
    "        # print(len(lang), \"example sentence: {}\".format(lang[0]))\n",
    "        lang_tokenizer = tf.keras.preprocessing.text.Tokenizer(filters='', oov_token='<OOV>', num_words=50000)\n",
    "        lang_tokenizer.fit_on_texts(lang)\n",
    "\n",
    "        ## tf.keras.preprocessing.text.Tokenizer.texts_to_sequences converts string (w1, w2, w3, ......, wn) \n",
    "        ## to a list of correspoding integer ids of words (id_w1, id_w2, id_w3, ...., id_wn)\n",
    "        tensor = lang_tokenizer.texts_to_sequences(lang) \n",
    "\n",
    "        ## tf.keras.preprocessing.sequence.pad_sequences takes argument a list of integer id sequences \n",
    "        ## and pads the sequences to match the longest sequences in the given input\n",
    "        tensor = tf.keras.preprocessing.sequence.pad_sequences(tensor, padding='post')\n",
    "\n",
    "        return tensor, lang_tokenizer\n",
    "\n",
    "    def load_dataset(self, path, num_examples=None):\n",
    "        # creating cleaned input, output pairs\n",
    "        # targ_lang, inp_lang = self.create_dataset(path, num_examples)\n",
    "        inp_lang, targ_lang = self.create_wikibio_data(path, num_examples)\n",
    "\n",
    "        input_tensor, inp_lang_tokenizer = self.tokenize(inp_lang)\n",
    "        target_tensor, targ_lang_tokenizer = self.tokenize(targ_lang)\n",
    "\n",
    "        return input_tensor, target_tensor, inp_lang_tokenizer, targ_lang_tokenizer\n",
    "\n",
    "    def call(self, path, num_examples, BUFFER_SIZE, BATCH_SIZE):\n",
    "        # file_path = download_nmt()\n",
    "        input_tensor, target_tensor, self.inp_lang_tokenizer, self.targ_lang_tokenizer = self.load_dataset(path, num_examples)\n",
    "        # input_tensor_train, input_tensor_val, target_tensor_train, target_tensor_val = train_test_split(input_tensor, target_tensor, test_size=0.2)\n",
    "\n",
    "        train_dataset = tf.data.Dataset.from_tensor_slices((input_tensor, target_tensor))\n",
    "        train_dataset = train_dataset.shuffle(len(input_tensor), reshuffle_each_iteration=True)\\\n",
    "                                     .batch(BATCH_SIZE, drop_remainder=True)\\\n",
    "                                     .prefetch(buffer_size=BATCH_SIZE)\n",
    "\n",
    "        return train_dataset, self.inp_lang_tokenizer, self.targ_lang_tokenizer"
   ]
  },
  {
   "cell_type": "code",
   "execution_count": 5,
   "metadata": {
    "id": "EIW4NVBmJ25k"
   },
   "outputs": [
    {
     "name": "stderr",
     "output_type": "stream",
     "text": [
      "100%|██████████| 10000/10000 [00:00<00:00, 268159.14it/s]\n"
     ]
    }
   ],
   "source": [
    "BUFFER_SIZE = 32000\n",
    "BATCH_SIZE = 32\n",
    "# Let's limit the #training examples for faster training\n",
    "num_examples = None\n",
    "\n",
    "dataset_creator = NMTDataset('en-spa')\n",
    "train_dataset, inp_lang, targ_lang = dataset_creator.call('../wikipedia-biography-dataset/wikipedia-biography-dataset', \n",
    "                                                                       num_examples, BUFFER_SIZE, BATCH_SIZE)"
   ]
  },
  {
   "cell_type": "code",
   "execution_count": 6,
   "metadata": {
    "id": "w2lCTy4vKOkB"
   },
   "outputs": [
    {
     "data": {
      "text/plain": [
       "(TensorShape([32, 80]), TensorShape([32, 35]))"
      ]
     },
     "execution_count": 6,
     "metadata": {},
     "output_type": "execute_result"
    }
   ],
   "source": [
    "example_input_batch, example_target_batch = next(iter(train_dataset))\n",
    "example_input_batch.shape, example_target_batch.shape"
   ]
  },
  {
   "cell_type": "code",
   "execution_count": 7,
   "metadata": {},
   "outputs": [
    {
     "data": {
      "text/plain": [
       "array([[    4,     5,   174,  2223,     2,    14, 44109,    33,   113,\n",
       "            2,    22,  2223,   115, 44110,   292,   885,     3,    56,\n",
       "           39,     2,  1149,   230,     2,    89,   183,     2,   363,\n",
       "          174, 22316,     2,    44,   174,  2223, 22316,     2,     8,\n",
       "        10084,  1382,     3,   468,     2,   189,   294,    51,   297,\n",
       "            2,    82,   180,     2,    20,   273,     2,    71,   128,\n",
       "            7,    72,     2,   145,  1648,  2212,  1640, 10028, 12347,\n",
       "            2,   192,  2099,  9464,     2,     9,   174,  2223,    10,\n",
       "            0,     0,     0,     0,     0,     0,     0,     0]],\n",
       "      dtype=int32)"
      ]
     },
     "execution_count": 7,
     "metadata": {},
     "output_type": "execute_result"
    }
   ],
   "source": [
    " example_input_batch[0:1].numpy()"
   ]
  },
  {
   "cell_type": "code",
   "execution_count": 8,
   "metadata": {},
   "outputs": [
    {
     "data": {
      "text/plain": [
       "['<start> name james wesley <sep> image james_wesley . jpg <sep> caption wesley at cma music festival , june 2010 <sep> landscape yes <sep> background solo_singer <sep> alias james prosser <sep> birth_name james wesley prosser <sep> birth_place mound valley , kansas <sep> instrument guitar and vocals <sep> genre country <sep> occupation singer <sep> years_active 1999 -- present <sep> label warner bros. nashville broken bow <sep> associated_acts rodney clawson <sep> article_title james wesley <end> <OOV> <OOV> <OOV> <OOV> <OOV> <OOV> <OOV> <OOV>']"
      ]
     },
     "execution_count": 8,
     "metadata": {},
     "output_type": "execute_result"
    }
   ],
   "source": [
    "inp_lang.sequences_to_texts(example_input_batch[:1].numpy())"
   ]
  },
  {
   "cell_type": "markdown",
   "metadata": {
    "id": "rgCLkfv5uO3d"
   },
   "source": [
    "### Some important parameters"
   ]
  },
  {
   "cell_type": "code",
   "execution_count": 9,
   "metadata": {
    "id": "TqHsArVZ3jFS"
   },
   "outputs": [],
   "source": [
    "vocab_inp_size = 70000+1#len(inp_lang.word_index)+1\n",
    "vocab_tar_size = 70000+1#len(targ_lang.word_index)+1\n",
    "max_length_input = example_input_batch.shape[1]\n",
    "max_length_output = example_target_batch.shape[1]\n",
    "\n",
    "embedding_dim = 256\n",
    "units = 512\n",
    "steps_per_epoch = 582659//BATCH_SIZE\n"
   ]
  },
  {
   "cell_type": "code",
   "execution_count": 10,
   "metadata": {
    "id": "g-yY9c6aIu1h"
   },
   "outputs": [
    {
     "name": "stdout",
     "output_type": "stream",
     "text": [
      "max_length_spanish, max_length_english, vocab_size_spanish, vocab_size_english\n",
      "80 35 50001 50001\n"
     ]
    }
   ],
   "source": [
    "print(\"max_length_spanish, max_length_english, vocab_size_spanish, vocab_size_english\")\n",
    "print(max_length_input, max_length_output, vocab_inp_size, vocab_tar_size)"
   ]
  },
  {
   "cell_type": "code",
   "execution_count": 24,
   "metadata": {
    "id": "nZ2rI24i3jFg"
   },
   "outputs": [],
   "source": [
    "##### Encoder definitions \n",
    "\n",
    "class Encoder(tf.keras.Model):\n",
    "    def __init__(self, vocab_size, embedding_dim, enc_units, batch_sz):\n",
    "        super(Encoder, self).__init__()\n",
    "        self.batch_sz = batch_sz\n",
    "        self.enc_units = enc_units\n",
    "        self.embedding = tf.keras.layers.Embedding(vocab_size, embedding_dim)\n",
    "\n",
    "        ##-------- LSTM layer in Encoder ------- ##\n",
    "        self.lstm_layer = tf.keras.layers.LSTM(self.enc_units,\n",
    "                                       return_sequences=True,\n",
    "                                       return_state=True,\n",
    "                                       recurrent_initializer='glorot_uniform')\n",
    "\n",
    "\n",
    "\n",
    "    def call(self, x, hidden):\n",
    "        x = self.embedding(x)\n",
    "        output, h, c = self.lstm_layer(x, initial_state = hidden)\n",
    "        return output, h, c\n",
    "\n",
    "    def initialize_hidden_state(self):\n",
    "        return [tf.zeros((self.batch_sz, self.enc_units)), tf.zeros((self.batch_sz, self.enc_units))] \n",
    "    \n",
    "    \n",
    "class BiLSTMEncoder(tf.keras.Model):\n",
    "    def __init__(self, vocab_size, embedding_dim, enc_units, batch_sz):\n",
    "        super(BiLSTMEncoder, self).__init__()\n",
    "        self.batch_sz = batch_sz\n",
    "        self.enc_units = enc_units\n",
    "        self.embedding = tf.keras.layers.Embedding(vocab_size, embedding_dim)\n",
    "        \n",
    "        ## -------- BiLSTM layer in Encoder -------- ##\n",
    "        self.lstm_layer = tf.keras.layers.Bidirectional(\n",
    "            tf.keras.layers.LSTM(self.enc_units, recurrent_initializer='glorot_uniform',\n",
    "                                 return_sequences=True, return_state=True)\n",
    "        )\n",
    "        \n",
    "        ## -------- Hidden dense -------- ##\n",
    "        self.hid_dense = tf.keras.layers.Dense(self.enc_units)\n",
    "        \n",
    "        ## -------- Carry dense -------- ##\n",
    "        self.car_dense = tf.keras.layers.Dense(self.enc_units)\n",
    "\n",
    "        \n",
    "    def call(self, x, hidden):\n",
    "        x = self.embedding(x)\n",
    "        output, fh, fc, bh, bc = self.lstm_layer(x, initial_state=hidden)\n",
    "        hid = tf.concat([fh, bh], axis=-1)\n",
    "        car = tf.concat([fc, bc], axis=-1)\n",
    "        return output, self.hid_dense(hid), self.car_dense(car)\n",
    "    \n",
    "    def initialize_hidden_state(self):\n",
    "        return [tf.zeros((self.batch_sz, self.enc_units)), tf.zeros((self.batch_sz, self.enc_units))] * 2 "
   ]
  },
  {
   "cell_type": "code",
   "execution_count": 25,
   "metadata": {
    "id": "60gSVh05Jl6l"
   },
   "outputs": [
    {
     "name": "stdout",
     "output_type": "stream",
     "text": [
      "Encoder init shapes: [fw_h, fw_c, bw_h, bw_c] [TensorShape([32, 512]), TensorShape([32, 512]), TensorShape([32, 512]), TensorShape([32, 512])]\n",
      "Encoder output shape: (batch size, sequence length, units) (32, 80, 1024)\n",
      "Encoder h vecotr shape: (batch size, units) (32, 512)\n",
      "Encoder c vector shape: (batch size, units) (32, 512)\n"
     ]
    }
   ],
   "source": [
    "## Test Encoder Stack\n",
    "\n",
    "# encoder = Encoder(vocab_inp_size, embedding_dim, units, BATCH_SIZE)\n",
    "encoder = BiLSTMEncoder(vocab_inp_size, embedding_dim, units, BATCH_SIZE)\n",
    "\n",
    "\n",
    "# sample input\n",
    "sample_hidden = encoder.initialize_hidden_state()\n",
    "print ('Encoder init shapes: [fw_h, fw_c, bw_h, bw_c] {}'.format([_.shape for _ in sample_hidden]))\n",
    "sample_output, sample_h, sample_c = encoder(example_input_batch, sample_hidden)\n",
    "print ('Encoder output shape: (batch size, sequence length, units) {}'.format(sample_output.shape))\n",
    "print ('Encoder h vecotr shape: (batch size, units) {}'.format(sample_h.shape))\n",
    "print ('Encoder c vector shape: (batch size, units) {}'.format(sample_c.shape))"
   ]
  },
  {
   "cell_type": "code",
   "execution_count": 26,
   "metadata": {
    "id": "yJ_B3mhW3jFk"
   },
   "outputs": [],
   "source": [
    "class Decoder(tf.keras.Model):\n",
    "  def __init__(self, vocab_size, embedding_dim, dec_units, batch_sz, attention_type='luong'):\n",
    "    super(Decoder, self).__init__()\n",
    "    self.batch_sz = batch_sz\n",
    "    self.dec_units = dec_units\n",
    "    self.attention_type = attention_type\n",
    "    \n",
    "    # Embedding Layer\n",
    "    self.embedding = tf.keras.layers.Embedding(vocab_size, embedding_dim)\n",
    "    \n",
    "    #Final Dense layer on which softmax will be applied\n",
    "    self.fc = tf.keras.layers.Dense(vocab_size)\n",
    "\n",
    "    # Define the fundamental cell for decoder recurrent structure\n",
    "    self.decoder_rnn_cell = tf.keras.layers.LSTMCell(self.dec_units)\n",
    "   \n",
    "\n",
    "\n",
    "    # Sampler\n",
    "    self.sampler = tfa.seq2seq.sampler.TrainingSampler()\n",
    "\n",
    "    # Create attention mechanism with memory = None\n",
    "    self.attention_mechanism = self.build_attention_mechanism(self.dec_units, \n",
    "                                                              None, self.batch_sz*[max_length_input], self.attention_type)\n",
    "\n",
    "    # Wrap attention mechanism with the fundamental rnn cell of decoder\n",
    "    self.rnn_cell = self.build_rnn_cell(batch_sz)\n",
    "\n",
    "    # Define the decoder with respect to fundamental rnn cell\n",
    "    self.decoder = tfa.seq2seq.BasicDecoder(self.rnn_cell, sampler=self.sampler, output_layer=self.fc)\n",
    "\n",
    "    \n",
    "  def build_rnn_cell(self, batch_sz):\n",
    "    rnn_cell = tfa.seq2seq.AttentionWrapper(self.decoder_rnn_cell, \n",
    "                                  self.attention_mechanism, attention_layer_size=self.dec_units)\n",
    "    return rnn_cell\n",
    "\n",
    "  def build_attention_mechanism(self, dec_units, memory, memory_sequence_length, attention_type='luong'):\n",
    "    # ------------- #\n",
    "    # typ: Which sort of attention (Bahdanau, Luong)\n",
    "    # dec_units: final dimension of attention outputs \n",
    "    # memory: encoder hidden states of shape (batch_size, max_length_input, enc_units)\n",
    "    # memory_sequence_length: 1d array of shape (batch_size) with every element set to max_length_input (for masking purpose)\n",
    "\n",
    "    if(attention_type=='bahdanau'):\n",
    "      return tfa.seq2seq.BahdanauAttention(units=dec_units, memory=memory, memory_sequence_length=memory_sequence_length)\n",
    "    else:\n",
    "      return tfa.seq2seq.LuongAttention(units=dec_units, memory=memory, memory_sequence_length=memory_sequence_length)\n",
    "\n",
    "  def build_initial_state(self, batch_sz, encoder_state, Dtype):\n",
    "    decoder_initial_state = self.rnn_cell.get_initial_state(batch_size=batch_sz, dtype=Dtype)\n",
    "    decoder_initial_state = decoder_initial_state.clone(cell_state=encoder_state)\n",
    "    return decoder_initial_state\n",
    "\n",
    "\n",
    "  def call(self, inputs, initial_state):\n",
    "    x = self.embedding(inputs)\n",
    "    outputs, _, _ = self.decoder(x, initial_state=initial_state, sequence_length=self.batch_sz*[max_length_output-1])\n",
    "    return outputs\n"
   ]
  },
  {
   "cell_type": "code",
   "execution_count": 27,
   "metadata": {
    "id": "DaiO0Z6_Ml1c"
   },
   "outputs": [
    {
     "name": "stdout",
     "output_type": "stream",
     "text": [
      "Decoder Outputs Shape:  (32, 34, 50001)\n"
     ]
    }
   ],
   "source": [
    "# Test decoder stack\n",
    "\n",
    "decoder = Decoder(vocab_tar_size, embedding_dim, units, BATCH_SIZE, 'luong')\n",
    "sample_x = tf.random.uniform((BATCH_SIZE, max_length_output))\n",
    "decoder.attention_mechanism.setup_memory(sample_output)\n",
    "initial_state = decoder.build_initial_state(BATCH_SIZE, [sample_h, sample_c], tf.float32)\n",
    "\n",
    "\n",
    "sample_decoder_outputs = decoder(sample_x, initial_state)\n",
    "\n",
    "print(\"Decoder Outputs Shape: \", sample_decoder_outputs.rnn_output.shape)\n"
   ]
  },
  {
   "cell_type": "markdown",
   "metadata": {
    "id": "_ch_71VbIRfK"
   },
   "source": [
    "## Define the optimizer and the loss function"
   ]
  },
  {
   "cell_type": "code",
   "execution_count": 28,
   "metadata": {
    "id": "WmTHr5iV3jFr"
   },
   "outputs": [],
   "source": [
    "optimizer = tf.keras.optimizers.Adam()\n",
    "\n",
    "\n",
    "def loss_function(real, pred):\n",
    "  # real shape = (BATCH_SIZE, max_length_output)\n",
    "  # pred shape = (BATCH_SIZE, max_length_output, tar_vocab_size )\n",
    "  cross_entropy = tf.keras.losses.SparseCategoricalCrossentropy(from_logits=True, reduction='none')\n",
    "  loss = cross_entropy(y_true=real, y_pred=pred)\n",
    "  mask = tf.logical_not(tf.math.equal(real,0))   #output 0 for y=0 else output 1\n",
    "  mask = tf.cast(mask, dtype=loss.dtype)  \n",
    "  loss = mask* loss\n",
    "  loss = tf.reduce_mean(loss)\n",
    "  return loss  "
   ]
  },
  {
   "cell_type": "markdown",
   "metadata": {
    "id": "DMVWzzsfNl4e"
   },
   "source": [
    "## Checkpoints (Object-based saving)"
   ]
  },
  {
   "cell_type": "code",
   "execution_count": 29,
   "metadata": {
    "id": "Zj8bXQTgNwrF"
   },
   "outputs": [],
   "source": [
    "checkpoint_dir = './training_checkpoints'\n",
    "checkpoint_prefix = os.path.join(checkpoint_dir, \"ckpt\")\n",
    "checkpoint = tf.train.Checkpoint(optimizer=optimizer,\n",
    "                                 encoder=encoder,\n",
    "                                 decoder=decoder)"
   ]
  },
  {
   "cell_type": "markdown",
   "metadata": {
    "id": "8Bw95utNiFHa"
   },
   "source": [
    "## One train_step operations"
   ]
  },
  {
   "cell_type": "code",
   "execution_count": 30,
   "metadata": {
    "id": "sC9ArXSsVfqn"
   },
   "outputs": [],
   "source": [
    "@tf.function\n",
    "def train_step(inp, targ, enc_hidden, update=True):\n",
    "  loss = 0\n",
    "\n",
    "  with tf.GradientTape() as tape:\n",
    "    enc_output, enc_h, enc_c = encoder(inp, enc_hidden)\n",
    "\n",
    "\n",
    "    dec_input = targ[ : , :-1 ] # Ignore <end> token\n",
    "    real = targ[ : , 1: ]         # ignore <start> token\n",
    "\n",
    "    # Set the AttentionMechanism object with encoder_outputs\n",
    "    decoder.attention_mechanism.setup_memory(enc_output)\n",
    "\n",
    "    # Create AttentionWrapperState as initial_state for decoder\n",
    "    decoder_initial_state = decoder.build_initial_state(BATCH_SIZE, [enc_h, enc_c], tf.float32)\n",
    "    pred = decoder(dec_input, decoder_initial_state)\n",
    "    logits = pred.rnn_output\n",
    "    loss = loss_function(real, logits)\n",
    "\n",
    "  if update:\n",
    "      variables = encoder.trainable_variables + decoder.trainable_variables\n",
    "      gradients = tape.gradient(loss, variables)\n",
    "      optimizer.apply_gradients(zip(gradients, variables))\n",
    "\n",
    "  return loss"
   ]
  },
  {
   "cell_type": "markdown",
   "metadata": {
    "id": "pey8eb9piMMg"
   },
   "source": [
    "## Train the model"
   ]
  },
  {
   "cell_type": "code",
   "execution_count": 31,
   "metadata": {
    "id": "ddefjBMa3jF0"
   },
   "outputs": [
    {
     "name": "stderr",
     "output_type": "stream",
     "text": [
      "epoch: 0, avg loss: 3.401:   2%|▏         | 277/18208 [02:02<2:12:19,  2.26it/s]\n"
     ]
    },
    {
     "ename": "KeyboardInterrupt",
     "evalue": "",
     "output_type": "error",
     "traceback": [
      "\u001b[0;31m---------------------------------------------------------------------------\u001b[0m",
      "\u001b[0;31mKeyboardInterrupt\u001b[0m                         Traceback (most recent call last)",
      "\u001b[0;32m<ipython-input-31-5381e93a42c7>\u001b[0m in \u001b[0;36m<module>\u001b[0;34m\u001b[0m\n\u001b[1;32m      9\u001b[0m   \u001b[0mprogbar\u001b[0m \u001b[0;34m=\u001b[0m \u001b[0mtqdm\u001b[0m\u001b[0;34m(\u001b[0m\u001b[0menumerate\u001b[0m\u001b[0;34m(\u001b[0m\u001b[0mtrain_dataset\u001b[0m\u001b[0;34m.\u001b[0m\u001b[0mtake\u001b[0m\u001b[0;34m(\u001b[0m\u001b[0msteps_per_epoch\u001b[0m\u001b[0;34m)\u001b[0m\u001b[0;34m)\u001b[0m\u001b[0;34m,\u001b[0m \u001b[0mtotal\u001b[0m\u001b[0;34m=\u001b[0m\u001b[0msteps_per_epoch\u001b[0m\u001b[0;34m,\u001b[0m \u001b[0mdesc\u001b[0m\u001b[0;34m=\u001b[0m\u001b[0;34m'epoch: , avg loss: '\u001b[0m\u001b[0;34m)\u001b[0m\u001b[0;34m\u001b[0m\u001b[0;34m\u001b[0m\u001b[0m\n\u001b[1;32m     10\u001b[0m   \u001b[0;32mfor\u001b[0m \u001b[0;34m(\u001b[0m\u001b[0mbatch\u001b[0m\u001b[0;34m,\u001b[0m \u001b[0;34m(\u001b[0m\u001b[0minp\u001b[0m\u001b[0;34m,\u001b[0m \u001b[0mtarg\u001b[0m\u001b[0;34m)\u001b[0m\u001b[0;34m)\u001b[0m \u001b[0;32min\u001b[0m \u001b[0mprogbar\u001b[0m\u001b[0;34m:\u001b[0m\u001b[0;34m\u001b[0m\u001b[0;34m\u001b[0m\u001b[0m\n\u001b[0;32m---> 11\u001b[0;31m     \u001b[0mbatch_loss\u001b[0m \u001b[0;34m=\u001b[0m \u001b[0mtrain_step\u001b[0m\u001b[0;34m(\u001b[0m\u001b[0minp\u001b[0m\u001b[0;34m,\u001b[0m \u001b[0mtarg\u001b[0m\u001b[0;34m,\u001b[0m \u001b[0menc_hidden\u001b[0m\u001b[0;34m,\u001b[0m \u001b[0mupdate\u001b[0m\u001b[0;34m=\u001b[0m\u001b[0;32mTrue\u001b[0m\u001b[0;34m)\u001b[0m\u001b[0;34m\u001b[0m\u001b[0;34m\u001b[0m\u001b[0m\n\u001b[0m\u001b[1;32m     12\u001b[0m     \u001b[0mtotal_loss\u001b[0m \u001b[0;34m+=\u001b[0m \u001b[0mbatch_loss\u001b[0m\u001b[0;34m\u001b[0m\u001b[0;34m\u001b[0m\u001b[0m\n\u001b[1;32m     13\u001b[0m \u001b[0;34m\u001b[0m\u001b[0m\n",
      "\u001b[0;32m/projects/ogma2/users/ptejaswi/anaconda3/envs/wikibio/lib/python3.7/site-packages/tensorflow_core/python/eager/def_function.py\u001b[0m in \u001b[0;36m__call__\u001b[0;34m(self, *args, **kwds)\u001b[0m\n\u001b[1;32m    566\u001b[0m         \u001b[0mxla_context\u001b[0m\u001b[0;34m.\u001b[0m\u001b[0mExit\u001b[0m\u001b[0;34m(\u001b[0m\u001b[0;34m)\u001b[0m\u001b[0;34m\u001b[0m\u001b[0;34m\u001b[0m\u001b[0m\n\u001b[1;32m    567\u001b[0m     \u001b[0;32melse\u001b[0m\u001b[0;34m:\u001b[0m\u001b[0;34m\u001b[0m\u001b[0;34m\u001b[0m\u001b[0m\n\u001b[0;32m--> 568\u001b[0;31m       \u001b[0mresult\u001b[0m \u001b[0;34m=\u001b[0m \u001b[0mself\u001b[0m\u001b[0;34m.\u001b[0m\u001b[0m_call\u001b[0m\u001b[0;34m(\u001b[0m\u001b[0;34m*\u001b[0m\u001b[0margs\u001b[0m\u001b[0;34m,\u001b[0m \u001b[0;34m**\u001b[0m\u001b[0mkwds\u001b[0m\u001b[0;34m)\u001b[0m\u001b[0;34m\u001b[0m\u001b[0;34m\u001b[0m\u001b[0m\n\u001b[0m\u001b[1;32m    569\u001b[0m \u001b[0;34m\u001b[0m\u001b[0m\n\u001b[1;32m    570\u001b[0m     \u001b[0;32mif\u001b[0m \u001b[0mtracing_count\u001b[0m \u001b[0;34m==\u001b[0m \u001b[0mself\u001b[0m\u001b[0;34m.\u001b[0m\u001b[0m_get_tracing_count\u001b[0m\u001b[0;34m(\u001b[0m\u001b[0;34m)\u001b[0m\u001b[0;34m:\u001b[0m\u001b[0;34m\u001b[0m\u001b[0;34m\u001b[0m\u001b[0m\n",
      "\u001b[0;32m/projects/ogma2/users/ptejaswi/anaconda3/envs/wikibio/lib/python3.7/site-packages/tensorflow_core/python/eager/def_function.py\u001b[0m in \u001b[0;36m_call\u001b[0;34m(self, *args, **kwds)\u001b[0m\n\u001b[1;32m    597\u001b[0m       \u001b[0;31m# In this case we have created variables on the first call, so we run the\u001b[0m\u001b[0;34m\u001b[0m\u001b[0;34m\u001b[0m\u001b[0;34m\u001b[0m\u001b[0m\n\u001b[1;32m    598\u001b[0m       \u001b[0;31m# defunned version which is guaranteed to never create variables.\u001b[0m\u001b[0;34m\u001b[0m\u001b[0;34m\u001b[0m\u001b[0;34m\u001b[0m\u001b[0m\n\u001b[0;32m--> 599\u001b[0;31m       \u001b[0;32mreturn\u001b[0m \u001b[0mself\u001b[0m\u001b[0;34m.\u001b[0m\u001b[0m_stateless_fn\u001b[0m\u001b[0;34m(\u001b[0m\u001b[0;34m*\u001b[0m\u001b[0margs\u001b[0m\u001b[0;34m,\u001b[0m \u001b[0;34m**\u001b[0m\u001b[0mkwds\u001b[0m\u001b[0;34m)\u001b[0m  \u001b[0;31m# pylint: disable=not-callable\u001b[0m\u001b[0;34m\u001b[0m\u001b[0;34m\u001b[0m\u001b[0m\n\u001b[0m\u001b[1;32m    600\u001b[0m     \u001b[0;32melif\u001b[0m \u001b[0mself\u001b[0m\u001b[0;34m.\u001b[0m\u001b[0m_stateful_fn\u001b[0m \u001b[0;32mis\u001b[0m \u001b[0;32mnot\u001b[0m \u001b[0;32mNone\u001b[0m\u001b[0;34m:\u001b[0m\u001b[0;34m\u001b[0m\u001b[0;34m\u001b[0m\u001b[0m\n\u001b[1;32m    601\u001b[0m       \u001b[0;31m# Release the lock early so that multiple threads can perform the call\u001b[0m\u001b[0;34m\u001b[0m\u001b[0;34m\u001b[0m\u001b[0;34m\u001b[0m\u001b[0m\n",
      "\u001b[0;32m/projects/ogma2/users/ptejaswi/anaconda3/envs/wikibio/lib/python3.7/site-packages/tensorflow_core/python/eager/function.py\u001b[0m in \u001b[0;36m__call__\u001b[0;34m(self, *args, **kwargs)\u001b[0m\n\u001b[1;32m   2361\u001b[0m     \u001b[0;32mwith\u001b[0m \u001b[0mself\u001b[0m\u001b[0;34m.\u001b[0m\u001b[0m_lock\u001b[0m\u001b[0;34m:\u001b[0m\u001b[0;34m\u001b[0m\u001b[0;34m\u001b[0m\u001b[0m\n\u001b[1;32m   2362\u001b[0m       \u001b[0mgraph_function\u001b[0m\u001b[0;34m,\u001b[0m \u001b[0margs\u001b[0m\u001b[0;34m,\u001b[0m \u001b[0mkwargs\u001b[0m \u001b[0;34m=\u001b[0m \u001b[0mself\u001b[0m\u001b[0;34m.\u001b[0m\u001b[0m_maybe_define_function\u001b[0m\u001b[0;34m(\u001b[0m\u001b[0margs\u001b[0m\u001b[0;34m,\u001b[0m \u001b[0mkwargs\u001b[0m\u001b[0;34m)\u001b[0m\u001b[0;34m\u001b[0m\u001b[0;34m\u001b[0m\u001b[0m\n\u001b[0;32m-> 2363\u001b[0;31m     \u001b[0;32mreturn\u001b[0m \u001b[0mgraph_function\u001b[0m\u001b[0;34m.\u001b[0m\u001b[0m_filtered_call\u001b[0m\u001b[0;34m(\u001b[0m\u001b[0margs\u001b[0m\u001b[0;34m,\u001b[0m \u001b[0mkwargs\u001b[0m\u001b[0;34m)\u001b[0m  \u001b[0;31m# pylint: disable=protected-access\u001b[0m\u001b[0;34m\u001b[0m\u001b[0;34m\u001b[0m\u001b[0m\n\u001b[0m\u001b[1;32m   2364\u001b[0m \u001b[0;34m\u001b[0m\u001b[0m\n\u001b[1;32m   2365\u001b[0m   \u001b[0;34m@\u001b[0m\u001b[0mproperty\u001b[0m\u001b[0;34m\u001b[0m\u001b[0;34m\u001b[0m\u001b[0m\n",
      "\u001b[0;32m/projects/ogma2/users/ptejaswi/anaconda3/envs/wikibio/lib/python3.7/site-packages/tensorflow_core/python/eager/function.py\u001b[0m in \u001b[0;36m_filtered_call\u001b[0;34m(self, args, kwargs)\u001b[0m\n\u001b[1;32m   1609\u001b[0m          if isinstance(t, (ops.Tensor,\n\u001b[1;32m   1610\u001b[0m                            resource_variable_ops.BaseResourceVariable))),\n\u001b[0;32m-> 1611\u001b[0;31m         self.captured_inputs)\n\u001b[0m\u001b[1;32m   1612\u001b[0m \u001b[0;34m\u001b[0m\u001b[0m\n\u001b[1;32m   1613\u001b[0m   \u001b[0;32mdef\u001b[0m \u001b[0m_call_flat\u001b[0m\u001b[0;34m(\u001b[0m\u001b[0mself\u001b[0m\u001b[0;34m,\u001b[0m \u001b[0margs\u001b[0m\u001b[0;34m,\u001b[0m \u001b[0mcaptured_inputs\u001b[0m\u001b[0;34m,\u001b[0m \u001b[0mcancellation_manager\u001b[0m\u001b[0;34m=\u001b[0m\u001b[0;32mNone\u001b[0m\u001b[0;34m)\u001b[0m\u001b[0;34m:\u001b[0m\u001b[0;34m\u001b[0m\u001b[0;34m\u001b[0m\u001b[0m\n",
      "\u001b[0;32m/projects/ogma2/users/ptejaswi/anaconda3/envs/wikibio/lib/python3.7/site-packages/tensorflow_core/python/eager/function.py\u001b[0m in \u001b[0;36m_call_flat\u001b[0;34m(self, args, captured_inputs, cancellation_manager)\u001b[0m\n\u001b[1;32m   1690\u001b[0m       \u001b[0;31m# No tape is watching; skip to running the function.\u001b[0m\u001b[0;34m\u001b[0m\u001b[0;34m\u001b[0m\u001b[0;34m\u001b[0m\u001b[0m\n\u001b[1;32m   1691\u001b[0m       return self._build_call_outputs(self._inference_function.call(\n\u001b[0;32m-> 1692\u001b[0;31m           ctx, args, cancellation_manager=cancellation_manager))\n\u001b[0m\u001b[1;32m   1693\u001b[0m     forward_backward = self._select_forward_and_backward_functions(\n\u001b[1;32m   1694\u001b[0m         \u001b[0margs\u001b[0m\u001b[0;34m,\u001b[0m\u001b[0;34m\u001b[0m\u001b[0;34m\u001b[0m\u001b[0m\n",
      "\u001b[0;32m/projects/ogma2/users/ptejaswi/anaconda3/envs/wikibio/lib/python3.7/site-packages/tensorflow_core/python/eager/function.py\u001b[0m in \u001b[0;36mcall\u001b[0;34m(self, ctx, args, cancellation_manager)\u001b[0m\n\u001b[1;32m    543\u001b[0m               \u001b[0minputs\u001b[0m\u001b[0;34m=\u001b[0m\u001b[0margs\u001b[0m\u001b[0;34m,\u001b[0m\u001b[0;34m\u001b[0m\u001b[0;34m\u001b[0m\u001b[0m\n\u001b[1;32m    544\u001b[0m               \u001b[0mattrs\u001b[0m\u001b[0;34m=\u001b[0m\u001b[0;34m(\u001b[0m\u001b[0;34m\"executor_type\"\u001b[0m\u001b[0;34m,\u001b[0m \u001b[0mexecutor_type\u001b[0m\u001b[0;34m,\u001b[0m \u001b[0;34m\"config_proto\"\u001b[0m\u001b[0;34m,\u001b[0m \u001b[0mconfig\u001b[0m\u001b[0;34m)\u001b[0m\u001b[0;34m,\u001b[0m\u001b[0;34m\u001b[0m\u001b[0;34m\u001b[0m\u001b[0m\n\u001b[0;32m--> 545\u001b[0;31m               ctx=ctx)\n\u001b[0m\u001b[1;32m    546\u001b[0m         \u001b[0;32melse\u001b[0m\u001b[0;34m:\u001b[0m\u001b[0;34m\u001b[0m\u001b[0;34m\u001b[0m\u001b[0m\n\u001b[1;32m    547\u001b[0m           outputs = execute.execute_with_cancellation(\n",
      "\u001b[0;32m/projects/ogma2/users/ptejaswi/anaconda3/envs/wikibio/lib/python3.7/site-packages/tensorflow_core/python/eager/execute.py\u001b[0m in \u001b[0;36mquick_execute\u001b[0;34m(op_name, num_outputs, inputs, attrs, ctx, name)\u001b[0m\n\u001b[1;32m     59\u001b[0m     tensors = pywrap_tensorflow.TFE_Py_Execute(ctx._handle, device_name,\n\u001b[1;32m     60\u001b[0m                                                \u001b[0mop_name\u001b[0m\u001b[0;34m,\u001b[0m \u001b[0minputs\u001b[0m\u001b[0;34m,\u001b[0m \u001b[0mattrs\u001b[0m\u001b[0;34m,\u001b[0m\u001b[0;34m\u001b[0m\u001b[0;34m\u001b[0m\u001b[0m\n\u001b[0;32m---> 61\u001b[0;31m                                                num_outputs)\n\u001b[0m\u001b[1;32m     62\u001b[0m   \u001b[0;32mexcept\u001b[0m \u001b[0mcore\u001b[0m\u001b[0;34m.\u001b[0m\u001b[0m_NotOkStatusException\u001b[0m \u001b[0;32mas\u001b[0m \u001b[0me\u001b[0m\u001b[0;34m:\u001b[0m\u001b[0;34m\u001b[0m\u001b[0;34m\u001b[0m\u001b[0m\n\u001b[1;32m     63\u001b[0m     \u001b[0;32mif\u001b[0m \u001b[0mname\u001b[0m \u001b[0;32mis\u001b[0m \u001b[0;32mnot\u001b[0m \u001b[0;32mNone\u001b[0m\u001b[0;34m:\u001b[0m\u001b[0;34m\u001b[0m\u001b[0;34m\u001b[0m\u001b[0m\n",
      "\u001b[0;31mKeyboardInterrupt\u001b[0m: "
     ]
    }
   ],
   "source": [
    "EPOCHS = 3\n",
    "\n",
    "for epoch in range(EPOCHS):\n",
    "  start = time.time()\n",
    "\n",
    "  enc_hidden = encoder.initialize_hidden_state()\n",
    "  total_loss = 0\n",
    "\n",
    "  progbar = tqdm(enumerate(train_dataset.take(steps_per_epoch)), total=steps_per_epoch, desc='epoch: , avg loss: ')\n",
    "  for (batch, (inp, targ)) in progbar:\n",
    "    batch_loss = train_step(inp, targ, enc_hidden, update=True)\n",
    "    total_loss += batch_loss\n",
    "    \n",
    "    progbar.set_description(\"epoch: %d, avg loss: %.3f\" % (epoch, batch_loss.numpy()))\n",
    "    \n",
    "  # saving (checkpoint) the model every 2 epochs\n",
    "  checkpoint.save(file_prefix = checkpoint_prefix)"
   ]
  },
  {
   "cell_type": "markdown",
   "metadata": {
    "id": "mU3Ce8M6I3rz"
   },
   "source": [
    "## Use tf-addons BasicDecoder for decoding\n"
   ]
  },
  {
   "cell_type": "code",
   "execution_count": 34,
   "metadata": {
    "id": "EbQpyYs13jF_"
   },
   "outputs": [],
   "source": [
    "def evaluate_sentence(sentence):\n",
    "  \"\"\"\n",
    "  `sentence` is RAW!\n",
    "  It is not `pre-processed`.\n",
    "  `create_wikibio_source` is called IN THIS FUNCTION!\n",
    "  \"\"\"\n",
    "#   sentence = dataset_creator.preprocess_sentence(sentence)\n",
    "#   inputs = [inp_lang.word_index[i] for i in sentence.split(' ')]\n",
    "#   inputs = tf.keras.preprocessing.sequence.pad_sequences([inputs],\n",
    "#                                                           maxlen=max_length_input,\n",
    "#                                                           padding='post')\n",
    "\n",
    "  if isinstance(sentence, str):\n",
    "    sentence = [sentence]\n",
    "  \n",
    "#   inputs = []\n",
    "#   for s in sentence:\n",
    "#     inputs.append([inp_lang.word_index[i] for i in dataset_creator.preprocess_sentence(s).split(' ')])\n",
    "\n",
    "  inputs = inp_lang.texts_to_sequences(dataset_creator.create_wikibio_source(sentence))\n",
    "  inputs = tf.keras.preprocessing.sequence.pad_sequences(inputs,\n",
    "                                                          maxlen=max_length_input,\n",
    "                                                          padding='post')\n",
    "  inputs = tf.convert_to_tensor(inputs)\n",
    "  inference_batch_size = inputs.shape[0]\n",
    "  result = ''\n",
    "\n",
    "  enc_start_state = [tf.zeros((inference_batch_size, units)), tf.zeros((inference_batch_size,units))] * 2\n",
    "  enc_out, enc_h, enc_c = encoder(inputs, enc_start_state)\n",
    "\n",
    "  dec_h = enc_h\n",
    "  dec_c = enc_c\n",
    "\n",
    "  start_tokens = tf.fill([inference_batch_size], targ_lang.word_index['<start>'])\n",
    "  end_token = targ_lang.word_index['<end>']\n",
    "\n",
    "  greedy_sampler = tfa.seq2seq.GreedyEmbeddingSampler()\n",
    "\n",
    "  # Instantiate BasicDecoder object\n",
    "  decoder_instance = tfa.seq2seq.BasicDecoder(cell=decoder.rnn_cell, sampler=greedy_sampler, output_layer=decoder.fc, maximum_iterations=35)\n",
    "  # Setup Memory in decoder stack\n",
    "  decoder.attention_mechanism.setup_memory(enc_out)\n",
    "\n",
    "  # set decoder_initial_state\n",
    "  decoder_initial_state = decoder.build_initial_state(inference_batch_size, [enc_h, enc_c], tf.float32)\n",
    "\n",
    "\n",
    "  ### Since the BasicDecoder wraps around Decoder's rnn cell only, you have to ensure that the inputs to BasicDecoder \n",
    "  ### decoding step is output of embedding layer. tfa.seq2seq.GreedyEmbeddingSampler() takes care of this. \n",
    "  ### You only need to get the weights of embedding layer, which can be done by decoder.embedding.variables[0] and pass this callabble to BasicDecoder's call() function\n",
    "\n",
    "  decoder_embedding_matrix = decoder.embedding.variables[0]\n",
    "  \n",
    "  outputs, _, _ = decoder_instance(decoder_embedding_matrix, start_tokens = start_tokens, end_token= end_token, initial_state=decoder_initial_state)\n",
    "  return outputs.sample_id.numpy()\n",
    "\n",
    "def translate(sentence):\n",
    "  result = evaluate_sentence(sentence)\n",
    "  print(result)\n",
    "  result = targ_lang.sequences_to_texts(result)\n",
    "  print('Input: %s' % (sentence))\n",
    "  print('Predicted translation: {}'.format(result))"
   ]
  },
  {
   "cell_type": "markdown",
   "metadata": {
    "id": "n250XbnjOaqP"
   },
   "source": [
    "## Restore the latest checkpoint and test"
   ]
  },
  {
   "cell_type": "code",
   "execution_count": 29,
   "metadata": {
    "id": "UJpT9D5_OgP6"
   },
   "outputs": [
    {
     "data": {
      "text/plain": [
       "<tensorflow.python.training.tracking.util.CheckpointLoadStatus at 0x7fa94b9af690>"
      ]
     },
     "execution_count": 29,
     "metadata": {},
     "output_type": "execute_result"
    }
   ],
   "source": [
    "# restoring the latest checkpoint in checkpoint_dir\n",
    "checkpoint.restore(tf.train.latest_checkpoint(checkpoint_dir))"
   ]
  },
  {
   "cell_type": "code",
   "execution_count": 35,
   "metadata": {
    "id": "WYmYhNN_faR5"
   },
   "outputs": [
    {
     "name": "stdout",
     "output_type": "stream",
     "text": [
      "[[ 65 108  23 528  24   4  10  36  61   2 222   5   9   8  25  28  17  46\n",
      "   19  11  60  60  37   6   7]]\n",
      "Input: type_1:pope\tname_1:michael\tname_2:iii\tname_3:of\tname_4:alexandria\ttitle_1:56th\ttitle_2:pope\ttitle_3:of\ttitle_4:alexandria\ttitle_5:&\ttitle_6:patriarch\ttitle_7:of\ttitle_8:the\ttitle_9:see\ttitle_10:of\ttitle_11:st.\ttitle_12:mark\timage:<none>\tcaption:<none>\tenthroned_1:25\tenthroned_2:april\tenthroned_3:880ended_1:16\tended_2:march\tended_3:907\tpredecessor_1:shenouda\tpredecessor_2:i\tsuccessor_1:gabriel\tsuccessor_2:i\tordination:<none>\tconsecration:<none>\tbirth_date:<none> \tbirth_name:<none>\tbirth_place_1:egypt\tdeath_date_1:16\tdeath_date_2:march\tdeath_date_3:907\tburied_1:monastery\tburied_2:of\tburied_3:saint\tburied_4:macarius  \tburied_5:the\tburied_6:great\tnationality_1:egyptian\treligion_1:coptic\treligion_2:orthodox\treligion_3:christian\tresidence_1:saint\tresidence_2:mark\tresidence_3:'s\tresidence_4:church\tfeast_day_1:16\tfeast_day_2:march\tfeast_day_3:-lrb-\tfeast_day_4:20\tfeast_day_5:baramhat\tfeast_day_6:in\tfeast_day_7:the\tfeast_day_8:coptic\tfeast_day_9:calendar\tfeast_day_10:-rrb-\talma_mater:<none>\tsignature:<none>\tarticle_title_1:pope\tarticle_title_2:michael\tarticle_title_3:iii\tarticle_title_4:of\tarticle_title_5:alexandria\n",
      "Predicted translation: [\"john william `` tom '' -lrb- born july 28 , 1946 -rrb- is a former footballer who plays for the national national league . <end>\"]\n"
     ]
    }
   ],
   "source": [
    "# translate(u'hace mucho frio aqui.')\n",
    "translate('''type_1:pope\tname_1:michael\tname_2:iii\tname_3:of\tname_4:alexandria\ttitle_1:56th\ttitle_2:pope\ttitle_3:of\ttitle_4:alexandria\ttitle_5:&\ttitle_6:patriarch\ttitle_7:of\ttitle_8:the\ttitle_9:see\ttitle_10:of\ttitle_11:st.\ttitle_12:mark\timage:<none>\tcaption:<none>\tenthroned_1:25\tenthroned_2:april\tenthroned_3:880ended_1:16\tended_2:march\tended_3:907\tpredecessor_1:shenouda\tpredecessor_2:i\tsuccessor_1:gabriel\tsuccessor_2:i\tordination:<none>\tconsecration:<none>\tbirth_date:<none> \tbirth_name:<none>\tbirth_place_1:egypt\tdeath_date_1:16\tdeath_date_2:march\tdeath_date_3:907\tburied_1:monastery\tburied_2:of\tburied_3:saint\tburied_4:macarius  \tburied_5:the\tburied_6:great\tnationality_1:egyptian\treligion_1:coptic\treligion_2:orthodox\treligion_3:christian\tresidence_1:saint\tresidence_2:mark\tresidence_3:'s\tresidence_4:church\tfeast_day_1:16\tfeast_day_2:march\tfeast_day_3:-lrb-\tfeast_day_4:20\tfeast_day_5:baramhat\tfeast_day_6:in\tfeast_day_7:the\tfeast_day_8:coptic\tfeast_day_9:calendar\tfeast_day_10:-rrb-\talma_mater:<none>\tsignature:<none>\tarticle_title_1:pope\tarticle_title_2:michael\tarticle_title_3:iii\tarticle_title_4:of\tarticle_title_5:alexandria''')"
   ]
  },
  {
   "cell_type": "code",
   "execution_count": 36,
   "metadata": {},
   "outputs": [
    {
     "name": "stdout",
     "output_type": "stream",
     "text": [
      "[[ 65  23 528  24   4  10  36  89   2 222   5   9   8  25  27  28  17  46\n",
      "   19  11  11  60  37   6   7]]\n",
      "Input: name_1:paul\tname_2:f.\tname_3:whelan\timage:<none>\talt:<none>\tcaption:<none>\tbirth_name:<none>\tbirth_date:<none>\tbirth_place:<none>\tdeath_date:<none>\tdeath_place:<none>\tnationality:<none>\tother_names:<none>\tknown_for:<none>\toccupation_1:professor\toccupation_2:of\toccupation_3:computer\toccupation_4:vision\tarticle_title_1:paul\tarticle_title_2:f.\tarticle_title_3:whelan\n",
      "Predicted translation: [\"john `` tom '' -lrb- born july 6 , 1946 -rrb- is a former professional footballer who plays for the the national league . <end>\"]\n"
     ]
    }
   ],
   "source": [
    "translate('''name_1:paul\\tname_2:f.\\tname_3:whelan\\timage:<none>\\talt:<none>\\tcaption:<none>\\tbirth_name:<none>\\tbirth_date:<none>\\tbirth_place:<none>\\tdeath_date:<none>\\tdeath_place:<none>\\tnationality:<none>\\tother_names:<none>\\tknown_for:<none>\\toccupation_1:professor\\toccupation_2:of\\toccupation_3:computer\\toccupation_4:vision\\tarticle_title_1:paul\\tarticle_title_2:f.\\tarticle_title_3:whelan''')"
   ]
  },
  {
   "cell_type": "code",
   "execution_count": 37,
   "metadata": {},
   "outputs": [
    {
     "data": {
      "text/plain": [
       "['<start> name paul f. whelan <sep> occupation professor of computer vision <sep> article_title paul f. whelan <end>']"
      ]
     },
     "execution_count": 37,
     "metadata": {},
     "output_type": "execute_result"
    }
   ],
   "source": [
    "dataset_creator.create_wikibio_source(['''name_1:paul\\tname_2:f.\\tname_3:whelan\\timage:<none>\\talt:<none>\\tcaption:<none>\\tbirth_name:<none>\\tbirth_date:<none>\\tbirth_place:<none>\\tdeath_date:<none>\\tdeath_place:<none>\\tnationality:<none>\\tother_names:<none>\\tknown_for:<none>\\toccupation_1:professor\\toccupation_2:of\\toccupation_3:computer\\toccupation_4:vision\\tarticle_title_1:paul\\tarticle_title_2:f.\\tarticle_title_3:whelan'''])"
   ]
  },
  {
   "cell_type": "markdown",
   "metadata": {
    "id": "IRUuNDeY0HiC"
   },
   "source": [
    "## Use tf-addons BeamSearchDecoder \n"
   ]
  },
  {
   "cell_type": "code",
   "execution_count": 29,
   "metadata": {
    "id": "AJ-RTQ0hsJNL"
   },
   "outputs": [],
   "source": [
    "def beam_evaluate_sentence(sentence, beam_width=3):\n",
    "  sentence = dataset_creator.preprocess_sentence(sentence)\n",
    "\n",
    "  inputs = [inp_lang.word_index[i] for i in sentence.split(' ')]\n",
    "  inputs = tf.keras.preprocessing.sequence.pad_sequences([inputs],\n",
    "                                                          maxlen=max_length_input,\n",
    "                                                          padding='post')\n",
    "  inputs = tf.convert_to_tensor(inputs)\n",
    "  inference_batch_size = inputs.shape[0]\n",
    "  result = ''\n",
    "\n",
    "  enc_start_state = [tf.zeros((inference_batch_size, units)), tf.zeros((inference_batch_size,units))]\n",
    "  enc_out, enc_h, enc_c = encoder(inputs, enc_start_state)\n",
    "\n",
    "  dec_h = enc_h\n",
    "  dec_c = enc_c\n",
    "\n",
    "  start_tokens = tf.fill([inference_batch_size], targ_lang.word_index['<start>'])\n",
    "  end_token = targ_lang.word_index['<end>']\n",
    "\n",
    "  # From official documentation\n",
    "  # NOTE If you are using the BeamSearchDecoder with a cell wrapped in AttentionWrapper, then you must ensure that:\n",
    "  # The encoder output has been tiled to beam_width via tfa.seq2seq.tile_batch (NOT tf.tile).\n",
    "  # The batch_size argument passed to the get_initial_state method of this wrapper is equal to true_batch_size * beam_width.\n",
    "  # The initial state created with get_initial_state above contains a cell_state value containing properly tiled final state from the encoder.\n",
    "\n",
    "  enc_out = tfa.seq2seq.tile_batch(enc_out, multiplier=beam_width)\n",
    "  decoder.attention_mechanism.setup_memory(enc_out)\n",
    "  print(\"beam_with * [batch_size, max_length_input, rnn_units] :  3 * [1, 16, 1024]] :\", enc_out.shape)\n",
    "\n",
    "  # set decoder_inital_state which is an AttentionWrapperState considering beam_width\n",
    "  hidden_state = tfa.seq2seq.tile_batch([enc_h, enc_c], multiplier=beam_width)\n",
    "  decoder_initial_state = decoder.rnn_cell.get_initial_state(batch_size=beam_width*inference_batch_size, dtype=tf.float32)\n",
    "  decoder_initial_state = decoder_initial_state.clone(cell_state=hidden_state)\n",
    "\n",
    "  # Instantiate BeamSearchDecoder\n",
    "  decoder_instance = tfa.seq2seq.BeamSearchDecoder(decoder.rnn_cell,beam_width=beam_width, output_layer=decoder.fc)\n",
    "  decoder_embedding_matrix = decoder.embedding.variables[0]\n",
    "\n",
    "  # The BeamSearchDecoder object's call() function takes care of everything.\n",
    "  outputs, final_state, sequence_lengths = decoder_instance(decoder_embedding_matrix, start_tokens=start_tokens, end_token=end_token, initial_state=decoder_initial_state)\n",
    "  # outputs is tfa.seq2seq.FinalBeamSearchDecoderOutput object. \n",
    "  # The final beam predictions are stored in outputs.predicted_id\n",
    "  # outputs.beam_search_decoder_output is a tfa.seq2seq.BeamSearchDecoderOutput object which keep tracks of beam_scores and parent_ids while performing a beam decoding step\n",
    "  # final_state = tfa.seq2seq.BeamSearchDecoderState object.\n",
    "  # Sequence Length = [inference_batch_size, beam_width] details the maximum length of the beams that are generated\n",
    "\n",
    "  \n",
    "  # outputs.predicted_id.shape = (inference_batch_size, time_step_outputs, beam_width)\n",
    "  # outputs.beam_search_decoder_output.scores.shape = (inference_batch_size, time_step_outputs, beam_width)\n",
    "  # Convert the shape of outputs and beam_scores to (inference_batch_size, beam_width, time_step_outputs)\n",
    "  final_outputs = tf.transpose(outputs.predicted_ids, perm=(0,2,1))\n",
    "  beam_scores = tf.transpose(outputs.beam_search_decoder_output.scores, perm=(0,2,1))\n",
    "  \n",
    "  return final_outputs.numpy(), beam_scores.numpy()"
   ]
  },
  {
   "cell_type": "code",
   "execution_count": 30,
   "metadata": {
    "id": "g_LvXGvX8X-O"
   },
   "outputs": [],
   "source": [
    "def beam_translate(sentence):\n",
    "  result, beam_scores = beam_evaluate_sentence(sentence)\n",
    "  print(result.shape, beam_scores.shape)\n",
    "  for beam, score in zip(result, beam_scores):\n",
    "    print(beam.shape, score.shape)\n",
    "    output = targ_lang.sequences_to_texts(beam)\n",
    "    output = [a[:a.index('<end>')] for a in output]\n",
    "    beam_score = [a.sum() for a in score]\n",
    "    print('Input: %s' % (sentence))\n",
    "    for i in range(len(output)):\n",
    "      print('{} Predicted translation: {}  {}'.format(i+1, output[i], beam_score[i]))\n"
   ]
  },
  {
   "cell_type": "markdown",
   "metadata": {},
   "source": [
    "## Batch Decoding ..."
   ]
  },
  {
   "cell_type": "code",
   "execution_count": 38,
   "metadata": {},
   "outputs": [
    {
     "name": "stderr",
     "output_type": "stream",
     "text": [
      "100%|██████████| 72831/72831 [00:00<00:00, 183302.11it/s]\n"
     ]
    }
   ],
   "source": [
    "testX = dataset_creator.load_text('../wikipedia-biography-dataset/wikipedia-biography-dataset/test/test.box')\n",
    "testIds = [int(x) for x in dataset_creator.load_text('../wikipedia-biography-dataset/wikipedia-biography-dataset/test/test.nb')]\n",
    "testTargs = dataset_creator.load_text('../wikipedia-biography-dataset/wikipedia-biography-dataset/test/test.sent', sum(testIds))\n",
    "testY = dataset_creator.create_wikibio_target(testTargs, testIds)\n",
    "assert len(testX) == len(testY)"
   ]
  },
  {
   "cell_type": "code",
   "execution_count": 39,
   "metadata": {},
   "outputs": [
    {
     "name": "stdout",
     "output_type": "stream",
     "text": [
      "name_1:lenny\tname_2:randle\tposition_1:second\tposition_2:baseman\tposition_3:/\tposition_4:third\tposition_5:baseman\timage:<none>\tbats_1:switch\tthrows_1:right\tbirth_date_1:12\tbirth_date_2:february\tbirth_date_3:1949\tbirth_place_1:long\tbirth_place_2:beach\tbirth_place_3:,\tbirth_place_4:california\tdeath_date:<none>\tdeath_place:<none>\tdebutdate_1:june\tdebutdate_2:16\tdebutyear_1:1971\tdebutteam_1:washington\tdebutteam_2:senators\tfinaldate_1:june\tfinaldate_2:20\tfinalyear_1:1982\tfinalteam_1:seattle\tfinalteam_2:mariners\tstatlabel_1:batting\tstatlabel_2:average\tstatlabel_3:home\tstatlabel_4:runs\tstatlabel_5:runs\tstatlabel_6:batted\tstatlabel_7:in\tstatvalue_1:.257\tstatvalue_2:27\tstatvalue_3:322\tteams:<none>\tarticle_title_1:lenny\tarticle_title_2:randle\n"
     ]
    }
   ],
   "source": [
    "print(testX[0])"
   ]
  },
  {
   "cell_type": "code",
   "execution_count": 40,
   "metadata": {},
   "outputs": [
    {
     "name": "stdout",
     "output_type": "stream",
     "text": [
      "<start> leonard shenoff randle -lrb- born february 12 , 1949 -rrb- is a former major league baseball player . <end>\n"
     ]
    }
   ],
   "source": [
    "print(testY[0])"
   ]
  },
  {
   "cell_type": "code",
   "execution_count": 41,
   "metadata": {},
   "outputs": [
    {
     "name": "stdout",
     "output_type": "stream",
     "text": [
      "[[ 65  23 528  24   4  10  36  89   2 222   5   9   8  25  27  28  17  46\n",
      "   19  11  11  60  37   6   7]]\n",
      "Input: name_1:lenny\tname_2:randle\tposition_1:second\tposition_2:baseman\tposition_3:/\tposition_4:third\tposition_5:baseman\timage:<none>\tbats_1:switch\tthrows_1:right\tbirth_date_1:12\tbirth_date_2:february\tbirth_date_3:1949\tbirth_place_1:long\tbirth_place_2:beach\tbirth_place_3:,\tbirth_place_4:california\tdeath_date:<none>\tdeath_place:<none>\tdebutdate_1:june\tdebutdate_2:16\tdebutyear_1:1971\tdebutteam_1:washington\tdebutteam_2:senators\tfinaldate_1:june\tfinaldate_2:20\tfinalyear_1:1982\tfinalteam_1:seattle\tfinalteam_2:mariners\tstatlabel_1:batting\tstatlabel_2:average\tstatlabel_3:home\tstatlabel_4:runs\tstatlabel_5:runs\tstatlabel_6:batted\tstatlabel_7:in\tstatvalue_1:.257\tstatvalue_2:27\tstatvalue_3:322\tteams:<none>\tarticle_title_1:lenny\tarticle_title_2:randle\n",
      "Predicted translation: [\"john `` tom '' -lrb- born july 6 , 1946 -rrb- is a former professional footballer who plays for the the national league . <end>\"]\n",
      "None\n"
     ]
    }
   ],
   "source": [
    "print(translate(testX[0]))"
   ]
  },
  {
   "cell_type": "code",
   "execution_count": 43,
   "metadata": {},
   "outputs": [
    {
     "name": "stderr",
     "output_type": "stream",
     "text": [
      "100%|██████████| 3/3 [00:00<00:00,  4.19it/s]\n"
     ]
    }
   ],
   "source": [
    "write_preds = []\n",
    "write_targs = []\n",
    "INFER_SIZE = 4\n",
    "\n",
    "for i in tqdm(range(0, 10, INFER_SIZE)):\n",
    "    x, y = testX[i: i+INFER_SIZE], testY[i: i+INFER_SIZE]\n",
    "    if len(x) == INFER_SIZE:\n",
    "        hypo = evaluate_sentence(x)\n",
    "        pred = targ_lang.sequences_to_texts(hypo)\n",
    "        for text in pred:\n",
    "            clean = []\n",
    "            for w in text.split():\n",
    "                if w == '<start>':\n",
    "                    pass\n",
    "                elif w == '<end>':\n",
    "                    break\n",
    "                else:\n",
    "                    clean.append(w)\n",
    "                    \n",
    "            write_preds.append(' '.join(clean))\n",
    "            \n",
    "        for text in y:\n",
    "            clean = []\n",
    "            for w in text.split():\n",
    "                if w == '<start>':\n",
    "                    pass\n",
    "                elif w == '<end>':\n",
    "                    break\n",
    "                else:\n",
    "                    clean.append(w)\n",
    "                    \n",
    "            write_targs.append(' '.join(clean))"
   ]
  },
  {
   "cell_type": "code",
   "execution_count": 44,
   "metadata": {},
   "outputs": [
    {
     "name": "stdout",
     "output_type": "stream",
     "text": [
      "\n",
      "Hypos written to disk.\n",
      "\n",
      "Targets written to disk.\n"
     ]
    }
   ],
   "source": [
    "with open('./results/wikibio_basicdecoder_hypos.txt', 'w') as fp:\n",
    "    fp.write('\\n'.join(write_preds) + '\\n')\n",
    "    \n",
    "print(\"\\nHypos written to disk.\")\n",
    "\n",
    "with open('./results/wikibio_basicdecoder_targets.txt', 'w') as fp:\n",
    "    fp.write('\\n'.join(write_targs) + '\\n')\n",
    "    \n",
    "print(\"\\nTargets written to disk.\")"
   ]
  },
  {
   "cell_type": "code",
   "execution_count": null,
   "metadata": {},
   "outputs": [],
   "source": []
  }
 ],
 "metadata": {
  "accelerator": "GPU",
  "colab": {
   "collapsed_sections": [],
   "name": "networks_seq2seq_nmt.ipynb",
   "toc_visible": true
  },
  "kernelspec": {
   "display_name": "wikibio",
   "language": "python",
   "name": "wikibio"
  },
  "language_info": {
   "codemirror_mode": {
    "name": "ipython",
    "version": 3
   },
   "file_extension": ".py",
   "mimetype": "text/x-python",
   "name": "python",
   "nbconvert_exporter": "python",
   "pygments_lexer": "ipython3",
   "version": "3.7.9"
  }
 },
 "nbformat": 4,
 "nbformat_minor": 4
}
